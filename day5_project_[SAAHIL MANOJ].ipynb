{
  "nbformat": 4,
  "nbformat_minor": 0,
  "metadata": {
    "colab": {
      "provenance": []
    },
    "kernelspec": {
      "name": "python3",
      "display_name": "Python 3"
    },
    "language_info": {
      "name": "python"
    }
  },
  "cells": [
    {
      "cell_type": "code",
      "execution_count": 23,
      "metadata": {
        "colab": {
          "base_uri": "https://localhost:8080/"
        },
        "id": "YQTsashzQX-x",
        "outputId": "ce8dfcc2-4fe0-4d58-8937-d5275b9e7da3"
      },
      "outputs": [
        {
          "output_type": "stream",
          "name": "stdout",
          "text": [
            "------DAILY PLANT DATA-------\n",
            "\n",
            "\n",
            "     Day  Light_Intensity  Temperature  Humidity  Produce\n",
            "0  Day 1            15000         28.5        60      2.5\n",
            "1  Day 2            18000         30.2        58      3.0\n",
            "2  Day 3            17000         29.0        65      2.8\n",
            "3  Day 4            16000         27.7        63      2.6\n",
            "4  Day 5            17500         30.0        59      3.1\n",
            "\n",
            "\n",
            "average light intensity:  16700.0 lux\n"
          ]
        }
      ],
      "source": [
        "import pandas as pd\n",
        "\n",
        "csv_path = 'updatedlight.csv'\n",
        "df = pd.read_csv(csv_path, encoding='ISO-8859-1')\n",
        "\n",
        "# Strip whitespace from column names\n",
        "df.columns = df.columns.str.strip()\n",
        "\n",
        "# Now access the column\n",
        "print(\"------DAILY PLANT DATA-------\")\n",
        "print(\"\\n\")\n",
        "print(df)\n",
        "print(\"\\n\")\n",
        "avg_light_intensity=df['Light_Intensity'].mean()\n",
        "print(\"average light intensity: \",avg_light_intensity,\"lux\")\n"
      ]
    }
  ]
}